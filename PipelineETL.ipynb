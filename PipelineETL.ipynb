{
  "nbformat": 4,
  "nbformat_minor": 0,
  "metadata": {
    "colab": {
      "provenance": [],
      "authorship_tag": "ABX9TyN6v1jcozWL9l+u3Hp6R227",
      "include_colab_link": true
    },
    "kernelspec": {
      "name": "python3",
      "display_name": "Python 3"
    },
    "language_info": {
      "name": "python"
    }
  },
  "cells": [
    {
      "cell_type": "markdown",
      "metadata": {
        "id": "view-in-github",
        "colab_type": "text"
      },
      "source": [
        "<a href=\"https://colab.research.google.com/github/milenemartins/PipelineETL/blob/main/PipelineETL.ipynb\" target=\"_parent\"><img src=\"https://colab.research.google.com/assets/colab-badge.svg\" alt=\"Open In Colab\"/></a>"
      ]
    },
    {
      "cell_type": "markdown",
      "source": [
        "# Extract"
      ],
      "metadata": {
        "id": "XP9FAulhqNko"
      }
    },
    {
      "cell_type": "markdown",
      "source": [
        "Extrair a lista de Filmes a partir do arquivo CSV. Para obter os dados de cada filme correspondente."
      ],
      "metadata": {
        "id": "2kZzPLt1qUYr"
      }
    },
    {
      "cell_type": "code",
      "source": [
        "#Extração\n",
        "\n",
        "import pandas as pd\n",
        "#importação da planilha .csv\n",
        "df = pd.read_csv('dados_filmes.csv')\n",
        "columns = ['Nome do Filme', 'Genero', 'Estreia']\n",
        "list_data = df[columns].values.tolist()\n",
        "print(list_data)"
      ],
      "metadata": {
        "colab": {
          "base_uri": "https://localhost:8080/"
        },
        "id": "het16ROdq9hf",
        "outputId": "cef0bbf3-7c39-4bd1-c131-9571c969d34d"
      },
      "execution_count": 79,
      "outputs": [
        {
          "output_type": "stream",
          "name": "stdout",
          "text": [
            "[['Batman Begins', 'Aventura', 2005], ['Ursinho Pooh', 'Terror', 2023], ['Divertidamente', 'Infantil', 2015], ['Oppenheimer', 'História', 2023], ['O Estranho Mundo de Jack', 'Fantasia', 1993], ['A Freira 2', 'Terror', 2023], ['Wonder Woman', 'Aventura', 2017], ['Elementos', 'Fantasia', 2023], ['Shazam', 'Ação', 2023], ['A Noiva Cadaver', 'Fantasia', 2005]]\n"
          ]
        }
      ]
    },
    {
      "cell_type": "markdown",
      "source": [
        "# Transform"
      ],
      "metadata": {
        "id": "-LBRilXiyv9g"
      }
    },
    {
      "cell_type": "code",
      "source": [
        "#Transformação\n",
        "\n",
        "#coluna 'Satuts' adicionada para receber os valores de 'Lançamento' e 'Antigo' de acordo com a lógica fornecida\n",
        "df['Status'] = df['Estreia'].apply(\n",
        "    lambda x: 'Lançamento'\n",
        "    if x >= 2023\n",
        "    else 'Antigo'\n",
        ")\n",
        "\n",
        "#Ordenar a lista do mais novo para o mais velho\n",
        "df = df.sort_values(by='Estreia', ascending=False)\n",
        "\n"
      ],
      "metadata": {
        "id": "yHu0_fDYvrwW"
      },
      "execution_count": 80,
      "outputs": []
    },
    {
      "cell_type": "markdown",
      "source": [
        "#Load"
      ],
      "metadata": {
        "id": "ccb8d6Mu0X-S"
      }
    },
    {
      "cell_type": "code",
      "source": [
        "#Carregamento\n",
        "\n",
        "#Imprimir a mensagem com a lista de filmes, genêros e estreia, com o status de 'lançamento' ou 'antigo'\n",
        "print(f\"Lista de filmes por ordem de lançamento:\\n{df}\")"
      ],
      "metadata": {
        "colab": {
          "base_uri": "https://localhost:8080/"
        },
        "id": "vD_pU1Zm88_3",
        "outputId": "142e7971-7bd6-4205-943a-b4c56afa959a"
      },
      "execution_count": 81,
      "outputs": [
        {
          "output_type": "stream",
          "name": "stdout",
          "text": [
            "Lista de filmes por ordem de lançamento:\n",
            "              Nome do Filme    Genero  Estreia      Status\n",
            "1              Ursinho Pooh    Terror     2023  Lançamento\n",
            "3               Oppenheimer  História     2023  Lançamento\n",
            "5                A Freira 2    Terror     2023  Lançamento\n",
            "7                 Elementos  Fantasia     2023  Lançamento\n",
            "8                    Shazam      Ação     2023  Lançamento\n",
            "6              Wonder Woman  Aventura     2017      Antigo\n",
            "2            Divertidamente  Infantil     2015      Antigo\n",
            "0             Batman Begins  Aventura     2005      Antigo\n",
            "9           A Noiva Cadaver  Fantasia     2005      Antigo\n",
            "4  O Estranho Mundo de Jack  Fantasia     1993      Antigo\n"
          ]
        }
      ]
    }
  ]
}